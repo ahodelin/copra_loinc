{
 "cells": [
  {
   "cell_type": "markdown",
   "id": "918e2113",
   "metadata": {},
   "source": [
    "# Ergebnis des Matching der Elemente von LOINC und COPRA\n",
    "\n",
    "## Prozedure\n",
    "Nach der Validierung des Matching-Prozesss zwischen verschiedenen LOINC-Elementen mit Elementen von COPRA wurden die Tabellen mit dem Ergebnis in CSV-Dateien exportiert.\n",
    "\n",
    "## Datenzätse\n",
    "- LOINC LONG_COMMON_NAME vs COPRA_Description\n",
    "- LOINC LONG_COMMON_NAME vs COPRA_Name\n",
    "- LOINC Shortname vs COPRA_Name"
   ]
  },
  {
   "cell_type": "code",
   "execution_count": null,
   "id": "3463e4f6",
   "metadata": {},
   "outputs": [],
   "source": [
    "import pandas as pd\n",
    "import numpy as np\n",
    "import csv\n",
    "import matplotlib as mlp\n",
    "import seaborn as sns\n",
    "sns.set_style(\"white\")"
   ]
  },
  {
   "cell_type": "code",
   "execution_count": 2,
   "id": "3e5b71b4-f67e-467b-b851-d119908c5811",
   "metadata": {},
   "outputs": [
    {
     "data": {
      "text/html": [
       "<div>\n",
       "<style scoped>\n",
       "    .dataframe tbody tr th:only-of-type {\n",
       "        vertical-align: middle;\n",
       "    }\n",
       "\n",
       "    .dataframe tbody tr th {\n",
       "        vertical-align: top;\n",
       "    }\n",
       "\n",
       "    .dataframe thead th {\n",
       "        text-align: right;\n",
       "    }\n",
       "</style>\n",
       "<table border=\"1\" class=\"dataframe\">\n",
       "  <thead>\n",
       "    <tr style=\"text-align: right;\">\n",
       "      <th></th>\n",
       "      <th>loinc_num</th>\n",
       "      <th>copra_id</th>\n",
       "      <th>loinc_long_common_name</th>\n",
       "      <th>copra_description</th>\n",
       "      <th>accuracy</th>\n",
       "      <th>is_match</th>\n",
       "      <th>id</th>\n",
       "    </tr>\n",
       "  </thead>\n",
       "  <tbody>\n",
       "    <tr>\n",
       "      <th>0</th>\n",
       "      <td>10163-4</td>\n",
       "      <td>108153</td>\n",
       "      <td>Anamnese früherer Schwangerschaften</td>\n",
       "      <td>Alkoholgebrauch während der Schwangerschaft</td>\n",
       "      <td>62</td>\n",
       "      <td>Nein</td>\n",
       "      <td>2</td>\n",
       "    </tr>\n",
       "    <tr>\n",
       "      <th>1</th>\n",
       "      <td>10163-4</td>\n",
       "      <td>108154</td>\n",
       "      <td>Anamnese früherer Schwangerschaften</td>\n",
       "      <td>Alkoholgebrauch während der Schwangerschaft</td>\n",
       "      <td>62</td>\n",
       "      <td>Nein</td>\n",
       "      <td>3</td>\n",
       "    </tr>\n",
       "    <tr>\n",
       "      <th>2</th>\n",
       "      <td>81324-6</td>\n",
       "      <td>108153</td>\n",
       "      <td>Glucose-Toleranz über 2 Stunden in der Schwang...</td>\n",
       "      <td>Alkoholgebrauch während der Schwangerschaft</td>\n",
       "      <td>65</td>\n",
       "      <td>Nein</td>\n",
       "      <td>4</td>\n",
       "    </tr>\n",
       "    <tr>\n",
       "      <th>3</th>\n",
       "      <td>81324-6</td>\n",
       "      <td>108154</td>\n",
       "      <td>Glucose-Toleranz über 2 Stunden in der Schwang...</td>\n",
       "      <td>Alkoholgebrauch während der Schwangerschaft</td>\n",
       "      <td>65</td>\n",
       "      <td>Nein</td>\n",
       "      <td>5</td>\n",
       "    </tr>\n",
       "    <tr>\n",
       "      <th>4</th>\n",
       "      <td>90767-5</td>\n",
       "      <td>108153</td>\n",
       "      <td>Übersicht der Schwangerschaft - Dokument</td>\n",
       "      <td>Alkoholgebrauch während der Schwangerschaft</td>\n",
       "      <td>65</td>\n",
       "      <td>Nein</td>\n",
       "      <td>6</td>\n",
       "    </tr>\n",
       "  </tbody>\n",
       "</table>\n",
       "</div>"
      ],
      "text/plain": [
       "  loinc_num  copra_id                             loinc_long_common_name  \\\n",
       "0   10163-4    108153                Anamnese früherer Schwangerschaften   \n",
       "1   10163-4    108154                Anamnese früherer Schwangerschaften   \n",
       "2   81324-6    108153  Glucose-Toleranz über 2 Stunden in der Schwang...   \n",
       "3   81324-6    108154  Glucose-Toleranz über 2 Stunden in der Schwang...   \n",
       "4   90767-5    108153           Übersicht der Schwangerschaft - Dokument   \n",
       "\n",
       "                             copra_description  accuracy is_match  id  \n",
       "0  Alkoholgebrauch während der Schwangerschaft        62     Nein   2  \n",
       "1  Alkoholgebrauch während der Schwangerschaft        62     Nein   3  \n",
       "2  Alkoholgebrauch während der Schwangerschaft        65     Nein   4  \n",
       "3  Alkoholgebrauch während der Schwangerschaft        65     Nein   5  \n",
       "4  Alkoholgebrauch während der Schwangerschaft        65     Nein   6  "
      ]
     },
     "execution_count": 2,
     "metadata": {},
     "output_type": "execute_result"
    }
   ],
   "source": [
    "loicLongCommonNameCopraDescription = pd.read_csv('/home/ahodelin/git_repos/copra_loinc/csv/results/sql_to_loinc_long_common_name_copra_description.csv', sep=';')\n",
    "loicLongCommonNameCopraDescription.head()"
   ]
  },
  {
   "cell_type": "code",
   "execution_count": 31,
   "id": "956bb0b6-d6e1-417e-a417-c68000d0b1ad",
   "metadata": {},
   "outputs": [
    {
     "data": {
      "image/png": "[encoded data removed]",
      "text/plain": [
       "<Figure size 650x500 with 1 Axes>"
      ]
     },
     "metadata": {},
     "output_type": "display_data"
    }
   ],
   "source": [
    "mlp.pyplot.figure(figsize=(6.5, 5))\n",
    "lcncd = sns.countplot(data=loicLongCommonNameCopraDescription, x=\"is_match\")\n",
    "mlp.pyplot.xlabel(\"Match LOINC_LONG_COMMON_NAME & COPRA_Description\")\n",
    "mlp.pyplot.ylabel(\"Anzahl Match\")\n",
    "for c in lcncd.patches:\n",
    "    lcncd.annotate('{:.0f}'.format(c.get_height()), (c.get_x()+0.25, c.get_height()+0.01))"
   ]
  },
  {
   "cell_type": "code",
   "execution_count": 5,
   "id": "f0242fab-5028-4805-b1b9-e0d1f35df37a",
   "metadata": {},
   "outputs": [
    {
     "data": {
      "text/html": [
       "<div>\n",
       "<style scoped>\n",
       "    .dataframe tbody tr th:only-of-type {\n",
       "        vertical-align: middle;\n",
       "    }\n",
       "\n",
       "    .dataframe tbody tr th {\n",
       "        vertical-align: top;\n",
       "    }\n",
       "\n",
       "    .dataframe thead th {\n",
       "        text-align: right;\n",
       "    }\n",
       "</style>\n",
       "<table border=\"1\" class=\"dataframe\">\n",
       "  <thead>\n",
       "    <tr style=\"text-align: right;\">\n",
       "      <th></th>\n",
       "      <th>loinc_num</th>\n",
       "      <th>copra_id</th>\n",
       "      <th>loinc_long_common_name</th>\n",
       "      <th>copra_name</th>\n",
       "      <th>accuracy</th>\n",
       "      <th>is_match</th>\n",
       "      <th>id</th>\n",
       "    </tr>\n",
       "  </thead>\n",
       "  <tbody>\n",
       "    <tr>\n",
       "      <th>0</th>\n",
       "      <td>41726-1</td>\n",
       "      <td>106777</td>\n",
       "      <td>ABT492 [Empfindlichkeit]</td>\n",
       "      <td>ABP2_Messung_Ort</td>\n",
       "      <td>60</td>\n",
       "      <td>Nein</td>\n",
       "      <td>1</td>\n",
       "    </tr>\n",
       "    <tr>\n",
       "      <th>1</th>\n",
       "      <td>26436-6</td>\n",
       "      <td>100809</td>\n",
       "      <td>Laboruntersuchungen</td>\n",
       "      <td>Anfeuchtung_Balken</td>\n",
       "      <td>60</td>\n",
       "      <td>Nein</td>\n",
       "      <td>3</td>\n",
       "    </tr>\n",
       "    <tr>\n",
       "      <th>2</th>\n",
       "      <td>18724-5</td>\n",
       "      <td>103751</td>\n",
       "      <td>HLA-Diagnostik</td>\n",
       "      <td>Assistenz_bei_Eingriffen_Diagnostik</td>\n",
       "      <td>83</td>\n",
       "      <td>Nein</td>\n",
       "      <td>4</td>\n",
       "    </tr>\n",
       "    <tr>\n",
       "      <th>3</th>\n",
       "      <td>9279-1</td>\n",
       "      <td>100813</td>\n",
       "      <td>Atemfrequenz</td>\n",
       "      <td>Atemform_Balken</td>\n",
       "      <td>60</td>\n",
       "      <td>Nein</td>\n",
       "      <td>5</td>\n",
       "    </tr>\n",
       "    <tr>\n",
       "      <th>4</th>\n",
       "      <td>30304-0</td>\n",
       "      <td>100813</td>\n",
       "      <td>Adefovir [Empfindlichkeit]</td>\n",
       "      <td>Atemform_Balken</td>\n",
       "      <td>62</td>\n",
       "      <td>Nein</td>\n",
       "      <td>6</td>\n",
       "    </tr>\n",
       "  </tbody>\n",
       "</table>\n",
       "</div>"
      ],
      "text/plain": [
       "  loinc_num  copra_id      loinc_long_common_name  \\\n",
       "0   41726-1    106777    ABT492 [Empfindlichkeit]   \n",
       "1   26436-6    100809         Laboruntersuchungen   \n",
       "2   18724-5    103751              HLA-Diagnostik   \n",
       "3    9279-1    100813                Atemfrequenz   \n",
       "4   30304-0    100813  Adefovir [Empfindlichkeit]   \n",
       "\n",
       "                            copra_name  accuracy is_match  id  \n",
       "0                     ABP2_Messung_Ort        60     Nein   1  \n",
       "1                   Anfeuchtung_Balken        60     Nein   3  \n",
       "2  Assistenz_bei_Eingriffen_Diagnostik        83     Nein   4  \n",
       "3                      Atemform_Balken        60     Nein   5  \n",
       "4                      Atemform_Balken        62     Nein   6  "
      ]
     },
     "execution_count": 5,
     "metadata": {},
     "output_type": "execute_result"
    }
   ],
   "source": [
    "loicLongCommonNameCopraName = pd.read_csv('/home/ahodelin/git_repos/copra_loinc/csv/results/sql_to_loinc_long_common_name_copra_name.csv', sep=';')\n",
    "loicLongCommonNameCopraName.head()"
   ]
  },
  {
   "cell_type": "code",
   "execution_count": 41,
   "id": "48e8f08d",
   "metadata": {},
   "outputs": [
    {
     "data": {
      "image/png": "[encoded data removed]",
      "text/plain": [
       "<Figure size 550x500 with 1 Axes>"
      ]
     },
     "metadata": {},
     "output_type": "display_data"
    }
   ],
   "source": [
    "mlp.pyplot.figure(figsize=(5.5, 5))\n",
    "lcncn = sns.countplot(data=loicLongCommonNameCopraName, x=\"is_match\", palette = \"Set2\")\n",
    "mlp.pyplot.xlabel(\"Match LOINC_LONG_COMMON_NAME & COPRA_Name\")\n",
    "mlp.pyplot.ylabel(\"Anzahl Match\")\n",
    "for c in lcncn.patches:\n",
    "    lcncn.annotate('{:.0f}'.format(c.get_height()), (c.get_x()+0.25, c.get_height()+0.01))"
   ]
  },
  {
   "cell_type": "code",
   "execution_count": 9,
   "id": "c5a39cd9",
   "metadata": {},
   "outputs": [
    {
     "data": {
      "text/html": [
       "<div>\n",
       "<style scoped>\n",
       "    .dataframe tbody tr th:only-of-type {\n",
       "        vertical-align: middle;\n",
       "    }\n",
       "\n",
       "    .dataframe tbody tr th {\n",
       "        vertical-align: top;\n",
       "    }\n",
       "\n",
       "    .dataframe thead th {\n",
       "        text-align: right;\n",
       "    }\n",
       "</style>\n",
       "<table border=\"1\" class=\"dataframe\">\n",
       "  <thead>\n",
       "    <tr style=\"text-align: right;\">\n",
       "      <th></th>\n",
       "      <th>loinc_num</th>\n",
       "      <th>copra_id</th>\n",
       "      <th>loinc_shortname</th>\n",
       "      <th>copra_name</th>\n",
       "      <th>accuracy</th>\n",
       "      <th>is_match</th>\n",
       "      <th>id</th>\n",
       "    </tr>\n",
       "  </thead>\n",
       "  <tbody>\n",
       "    <tr>\n",
       "      <th>0</th>\n",
       "      <td>21112-8</td>\n",
       "      <td>104781</td>\n",
       "      <td>Birth date</td>\n",
       "      <td>AT_Air_Balken</td>\n",
       "      <td>62</td>\n",
       "      <td>Nein</td>\n",
       "      <td>1</td>\n",
       "    </tr>\n",
       "    <tr>\n",
       "      <th>1</th>\n",
       "      <td>5673-9</td>\n",
       "      <td>104781</td>\n",
       "      <td>Lead Hair-mCnt</td>\n",
       "      <td>AT_Air_Balken</td>\n",
       "      <td>60</td>\n",
       "      <td>Nein</td>\n",
       "      <td>2</td>\n",
       "    </tr>\n",
       "    <tr>\n",
       "      <th>2</th>\n",
       "      <td>8867-4</td>\n",
       "      <td>104781</td>\n",
       "      <td>Heart rate</td>\n",
       "      <td>AT_Air_Balken</td>\n",
       "      <td>62</td>\n",
       "      <td>Nein</td>\n",
       "      <td>3</td>\n",
       "    </tr>\n",
       "    <tr>\n",
       "      <th>3</th>\n",
       "      <td>2703-7</td>\n",
       "      <td>104780</td>\n",
       "      <td>pO2 BldA</td>\n",
       "      <td>AT_O2_Balken</td>\n",
       "      <td>62</td>\n",
       "      <td>Nein</td>\n",
       "      <td>4</td>\n",
       "    </tr>\n",
       "    <tr>\n",
       "      <th>4</th>\n",
       "      <td>3148-4</td>\n",
       "      <td>104780</td>\n",
       "      <td>pO2 Gas</td>\n",
       "      <td>AT_O2_Balken</td>\n",
       "      <td>67</td>\n",
       "      <td>Nein</td>\n",
       "      <td>5</td>\n",
       "    </tr>\n",
       "  </tbody>\n",
       "</table>\n",
       "</div>"
      ],
      "text/plain": [
       "  loinc_num  copra_id loinc_shortname     copra_name  accuracy is_match  id\n",
       "0   21112-8    104781      Birth date  AT_Air_Balken        62     Nein   1\n",
       "1    5673-9    104781  Lead Hair-mCnt  AT_Air_Balken        60     Nein   2\n",
       "2    8867-4    104781      Heart rate  AT_Air_Balken        62     Nein   3\n",
       "3    2703-7    104780        pO2 BldA   AT_O2_Balken        62     Nein   4\n",
       "4    3148-4    104780         pO2 Gas   AT_O2_Balken        67     Nein   5"
      ]
     },
     "execution_count": 9,
     "metadata": {},
     "output_type": "execute_result"
    }
   ],
   "source": [
    "loicShortnameCopraName = pd.read_csv('/home/ahodelin/git_repos/copra_loinc/csv/results/sql_to_loinc_shortname_copra_name.csv', sep=';')\n",
    "loicShortnameCopraName.head()"
   ]
  },
  {
   "cell_type": "code",
   "execution_count": 39,
   "id": "a4c84d9a",
   "metadata": {},
   "outputs": [
    {
     "data": {
      "image/png": "[encoded data removed]",
      "text/plain": [
       "<Figure size 550x500 with 1 Axes>"
      ]
     },
     "metadata": {},
     "output_type": "display_data"
    }
   ],
   "source": [
    "mlp.pyplot.figure(figsize=(5.5, 5))\n",
    "lscn = sns.countplot(data=loicShortnameCopraName, x=\"is_match\", palette = \"Spectral\")\n",
    "mlp.pyplot.xlabel(\"Match LOINC_Shortname & COPRA_Name\")\n",
    "mlp.pyplot.ylabel(\"Anzahl Match\")\n",
    "for c in lscn.patches:\n",
    "    lscn.annotate('{:.0f}'.format(c.get_height()), (c.get_x()+0.25, c.get_height()+0.01))"
   ]
  },
  {
   "cell_type": "code",
   "execution_count": null,
   "id": "c5923138",
   "metadata": {},
   "outputs": [],
   "source": []
  }
 ],
 "metadata": {
  "kernelspec": {
   "display_name": "Python 3 (ipykernel)",
   "language": "python",
   "name": "python3"
  },
  "language_info": {
   "codemirror_mode": {
    "name": "ipython",
    "version": 3
   },
   "file_extension": ".py",
   "mimetype": "text/x-python",
   "name": "python",
   "nbconvert_exporter": "python",
   "pygments_lexer": "ipython3",
   "version": "3.10.12"
  }
 },
 "nbformat": 4,
 "nbformat_minor": 5
}
